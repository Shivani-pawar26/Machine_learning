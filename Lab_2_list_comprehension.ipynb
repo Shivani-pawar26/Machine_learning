{
  "nbformat": 4,
  "nbformat_minor": 0,
  "metadata": {
    "colab": {
      "name": "Lab_2-list_comprehension.ipynb",
      "provenance": [],
      "include_colab_link": true
    },
    "kernelspec": {
      "name": "python3",
      "display_name": "Python 3"
    },
    "language_info": {
      "name": "python"
    }
  },
  "cells": [
    {
      "cell_type": "markdown",
      "metadata": {
        "id": "view-in-github",
        "colab_type": "text"
      },
      "source": [
        "<a href=\"https://colab.research.google.com/github/Shivani-pawar26/Machine_learning/blob/main/Lab_2_list_comprehension.ipynb\" target=\"_parent\"><img src=\"https://colab.research.google.com/assets/colab-badge.svg\" alt=\"Open In Colab\"/></a>"
      ]
    },
    {
      "cell_type": "code",
      "execution_count": 1,
      "metadata": {
        "colab": {
          "base_uri": "https://localhost:8080/"
        },
        "id": "e2x_2Q7cNo47",
        "outputId": "1ecbb49c-a0b8-4df8-cacd-832ae812ef11"
      },
      "outputs": [
        {
          "output_type": "stream",
          "name": "stdout",
          "text": [
            "[(0, 'hi'), (1, 1.29), (2, 3), (3, 4), (4, (0.1, 'hi'))]\n"
          ]
        }
      ],
      "source": [
        "# Get the index and value as a tuple for items in the list\n",
        "\n",
        "items = ['hi', 1.29, 3, 4, (0.1, 'hi')]\n",
        "\n",
        "l = [(index, value) for index,value in enumerate(items)]\n",
        "print(l)"
      ]
    },
    {
      "cell_type": "code",
      "source": [
        "l1 = [1,2,3,4,5,6,7,8]\n",
        "l2 = [1,3,3,5,5,8,10,8]\n",
        "r1 = [i for i in l1 for j in l2 if i == j]\n",
        "r2 = [i for i in l1 if i in l2]\n",
        "print(r1)\n",
        "print(r2)"
      ],
      "metadata": {
        "colab": {
          "base_uri": "https://localhost:8080/"
        },
        "id": "IZcJEzRKOhmr",
        "outputId": "51b308d7-715c-4331-e451-ab23e4cb2135"
      },
      "execution_count": 2,
      "outputs": [
        {
          "output_type": "stream",
          "name": "stdout",
          "text": [
            "[1, 3, 3, 5, 5, 8, 8]\n",
            "[1, 3, 5, 8]\n"
          ]
        }
      ]
    },
    {
      "cell_type": "code",
      "source": [
        "s = \"hi i am shivani pawar\"\n",
        "#count the Number of latters\n",
        "l = [i for i in s if i != ' ']\n",
        "print(len(l))"
      ],
      "metadata": {
        "colab": {
          "base_uri": "https://localhost:8080/"
        },
        "id": "Vkw_HKVcPvV0",
        "outputId": "7aff3e16-26fc-4524-870c-02658b980c2a"
      },
      "execution_count": 3,
      "outputs": [
        {
          "output_type": "stream",
          "name": "stdout",
          "text": [
            "17\n"
          ]
        }
      ]
    },
    {
      "cell_type": "code",
      "source": [
        "s = \"hi i am shivani pawar\"\n",
        "# Count The Number of Words\n",
        "word = s.split()\n",
        "print(len(word))\n",
        "print(word)"
      ],
      "metadata": {
        "colab": {
          "base_uri": "https://localhost:8080/"
        },
        "id": "IIRbfdIGQ2Oc",
        "outputId": "b709ccfc-e68e-4190-ec70-7b3d46089584"
      },
      "execution_count": 4,
      "outputs": [
        {
          "output_type": "stream",
          "name": "stdout",
          "text": [
            "5\n",
            "['hi', 'i', 'am', 'shivani', 'pawar']\n"
          ]
        }
      ]
    },
    {
      "cell_type": "code",
      "source": [
        "# Count the Number Of Word Which Are Not Alphanumeric\n",
        "s = \"hi i a2m shivani paw1ar\"\n",
        "l = [i for i in s.split() if s.isalpha]\n",
        "\n",
        "# Print the Latters Having Charactor Greater Than 4\n",
        "l1 = [i for i in s.split() if len(i) >= 4]\n",
        "print(l1)\n",
        "print(l)"
      ],
      "metadata": {
        "colab": {
          "base_uri": "https://localhost:8080/"
        },
        "id": "MGFJXR9xRbHU",
        "outputId": "c82ab128-b53e-47b2-e281-f646f314fb13"
      },
      "execution_count": 5,
      "outputs": [
        {
          "output_type": "stream",
          "name": "stdout",
          "text": [
            "['shivani', 'paw1ar']\n",
            "['hi', 'i', 'a2m', 'shivani', 'paw1ar']\n"
          ]
        }
      ]
    },
    {
      "cell_type": "code",
      "source": [
        "# Use a nested list comprehension to find all the number in range 1 - 100 that are divisible by any in b/w 2 - 9\n",
        "l = [i for i in range(1,101) for j in range(2,10) if i%j == 0]\n",
        "l2 = []\n",
        "[l2.append(i) for i in l if i not in l2]\n",
        "print(l2)"
      ],
      "metadata": {
        "colab": {
          "base_uri": "https://localhost:8080/"
        },
        "id": "vO9-mNujTpGE",
        "outputId": "076a0a66-c125-435d-c2d0-ba52ae0a9ac1"
      },
      "execution_count": 6,
      "outputs": [
        {
          "output_type": "stream",
          "name": "stdout",
          "text": [
            "[2, 3, 4, 5, 6, 7, 8, 9, 10, 12, 14, 15, 16, 18, 20, 21, 22, 24, 25, 26, 27, 28, 30, 32, 33, 34, 35, 36, 38, 39, 40, 42, 44, 45, 46, 48, 49, 50, 51, 52, 54, 55, 56, 57, 58, 60, 62, 63, 64, 65, 66, 68, 69, 70, 72, 74, 75, 76, 77, 78, 80, 81, 82, 84, 85, 86, 87, 88, 90, 91, 92, 93, 94, 95, 96, 98, 99, 100]\n"
          ]
        }
      ]
    }
  ]
}