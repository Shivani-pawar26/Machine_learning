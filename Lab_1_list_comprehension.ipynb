{
  "nbformat": 4,
  "nbformat_minor": 0,
  "metadata": {
    "colab": {
      "name": "Lab_1-list_comprehension.ipynb",
      "provenance": [],
      "include_colab_link": true
    },
    "kernelspec": {
      "name": "python3",
      "display_name": "Python 3"
    },
    "language_info": {
      "name": "python"
    }
  },
  "cells": [
    {
      "cell_type": "markdown",
      "metadata": {
        "id": "view-in-github",
        "colab_type": "text"
      },
      "source": [
        "<a href=\"https://colab.research.google.com/github/Shivani-pawar26/Machine_learning/blob/main/Lab_1_list_comprehension.ipynb\" target=\"_parent\"><img src=\"https://colab.research.google.com/assets/colab-badge.svg\" alt=\"Open In Colab\"/></a>"
      ]
    },
    {
      "cell_type": "code",
      "execution_count": 2,
      "metadata": {
        "colab": {
          "base_uri": "https://localhost:8080/"
        },
        "id": "0rPHG_unCYQW",
        "outputId": "35240092-25f9-443d-83d8-03907d0e5902"
      },
      "outputs": [
        {
          "output_type": "execute_result",
          "data": {
            "text/plain": [
              "[841, 841, 100, 121, 400]"
            ]
          },
          "metadata": {},
          "execution_count": 2
        }
      ],
      "source": [
        "# To Print The Squre Of A Number In The List Given if It Is greater Than 50\n",
        "l1 = [1,2,3,4,29,29,10,11,20]\n",
        "[i**2 for i in l1 if i**2 > 50]"
      ]
    },
    {
      "cell_type": "code",
      "source": [
        "# For Given List if Value Is Greater Than 5 Then Print \"hi\" otherwise \"bye\" \n",
        "l1 = [1,2,3,4,5,6,7,8,9,10]\n",
        "[\"hi\"if (i > 5) else \"bye\" for i in l1]"
      ],
      "metadata": {
        "colab": {
          "base_uri": "https://localhost:8080/"
        },
        "id": "pfQYi4fNE98F",
        "outputId": "50334a5f-9b13-4275-8d11-b181a384c8ff"
      },
      "execution_count": 3,
      "outputs": [
        {
          "output_type": "execute_result",
          "data": {
            "text/plain": [
              "['bye', 'bye', 'bye', 'bye', 'bye', 'hi', 'hi', 'hi', 'hi', 'hi']"
            ]
          },
          "metadata": {},
          "execution_count": 3
        }
      ]
    },
    {
      "cell_type": "code",
      "source": [
        "# If x^2 <= 10 Execute 27*x for Values In Range 1-20\n",
        "[27*x for x in range(1,21) if x**2 <= 50]"
      ],
      "metadata": {
        "id": "_wx3XH_NGCgp"
      },
      "execution_count": 8,
      "outputs": []
    },
    {
      "cell_type": "code",
      "source": [
        "# Print All The Even Number In Range 1-20\n",
        "[i for i in range(1,21) if i%2 == 0]"
      ],
      "metadata": {
        "colab": {
          "base_uri": "https://localhost:8080/"
        },
        "id": "kBichGiTHRG8",
        "outputId": "f3d84b01-b99b-4a21-bd25-c27e7c0f61b1"
      },
      "execution_count": 9,
      "outputs": [
        {
          "output_type": "execute_result",
          "data": {
            "text/plain": [
              "[2, 4, 6, 8, 10, 12, 14, 16, 18, 20]"
            ]
          },
          "metadata": {},
          "execution_count": 9
        }
      ]
    },
    {
      "cell_type": "code",
      "source": [
        "# Find All The Numbers That Can be Divided By 2 & 5 in some range\n",
        "[i for i in range(1,101) if i%2 == 0 and i%5 == 0]"
      ],
      "metadata": {
        "colab": {
          "base_uri": "https://localhost:8080/"
        },
        "id": "khuQWiwdIGMO",
        "outputId": "445d6c9e-0a3b-482a-b1ff-ca682fb70d2a"
      },
      "execution_count": 11,
      "outputs": [
        {
          "output_type": "execute_result",
          "data": {
            "text/plain": [
              "[10, 20, 30, 40, 50, 60, 70, 80, 90, 100]"
            ]
          },
          "metadata": {},
          "execution_count": 11
        }
      ]
    },
    {
      "cell_type": "code",
      "source": [
        "# Find All The Numbers From 1 - 1000 that have 3 in them\n",
        "[i for i in range(1, 101) if '3' in str(i)]"
      ],
      "metadata": {
        "colab": {
          "base_uri": "https://localhost:8080/"
        },
        "id": "5ENMml34I1d-",
        "outputId": "494b7602-159b-4654-9ef6-ce4e67c55a21"
      },
      "execution_count": 12,
      "outputs": [
        {
          "output_type": "execute_result",
          "data": {
            "text/plain": [
              "[3, 13, 23, 30, 31, 32, 33, 34, 35, 36, 37, 38, 39, 43, 53, 63, 73, 83, 93]"
            ]
          },
          "metadata": {},
          "execution_count": 12
        }
      ]
    },
    {
      "cell_type": "code",
      "source": [
        "# Count The Number Of Spaces In Given String\n",
        "s = \"Shivani Pawar\"\n",
        "l1 = [i for i in s if ' ' == i]\n",
        "print(len(l1))"
      ],
      "metadata": {
        "colab": {
          "base_uri": "https://localhost:8080/"
        },
        "id": "3ziaHW5kJ--O",
        "outputId": "c9144556-1171-4d26-ceba-945283f23908"
      },
      "execution_count": 13,
      "outputs": [
        {
          "output_type": "stream",
          "name": "stdout",
          "text": [
            "1\n"
          ]
        }
      ]
    },
    {
      "cell_type": "code",
      "source": [
        "# Count The Consonent in String\n",
        "s = \"To execute the code in the above cell\"\n",
        "v = ['a','e','i','o','u',' ']\n",
        "l1 = [i for i in s if i not in v]\n",
        "print(len(l1))"
      ],
      "metadata": {
        "colab": {
          "base_uri": "https://localhost:8080/"
        },
        "id": "9Fim07LkLQs3",
        "outputId": "f780fe04-2472-4d8f-98ce-0acb95051fcc"
      },
      "execution_count": 14,
      "outputs": [
        {
          "output_type": "stream",
          "name": "stdout",
          "text": [
            "16\n"
          ]
        }
      ]
    }
  ]
}